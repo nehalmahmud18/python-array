{
 "cells": [
  {
   "cell_type": "code",
   "execution_count": 13,
   "metadata": {},
   "outputs": [
    {
     "ename": "ModuleNotFoundError",
     "evalue": "No module named 'docx'",
     "output_type": "error",
     "traceback": [
      "\u001b[31m---------------------------------------------------------------------------\u001b[39m",
      "\u001b[31mModuleNotFoundError\u001b[39m                       Traceback (most recent call last)",
      "\u001b[36mCell\u001b[39m\u001b[36m \u001b[39m\u001b[32mIn[13]\u001b[39m\u001b[32m, line 1\u001b[39m\n\u001b[32m----> \u001b[39m\u001b[32m1\u001b[39m \u001b[38;5;28;01mfrom\u001b[39;00m\u001b[38;5;250m \u001b[39m\u001b[34;01mdocx\u001b[39;00m\u001b[38;5;250m \u001b[39m\u001b[38;5;28;01mimport\u001b[39;00m Document\n\u001b[32m      3\u001b[39m search_word = \u001b[33m'\u001b[39m\u001b[33mcumilla\u001b[39m\u001b[33m'\u001b[39m\n\u001b[32m      4\u001b[39m replace_word = \u001b[33m'\u001b[39m\u001b[33mComilla\u001b[39m\u001b[33m'\u001b[39m\n",
      "\u001b[31mModuleNotFoundError\u001b[39m: No module named 'docx'"
     ]
    }
   ],
   "source": [
    "from docx import Document\n",
    "\n",
    "search_word = 'cumilla'\n",
    "replace_word = 'Comilla'\n",
    "\n",
    "# Load the .docx file\n",
    "doc = Document('Home Page–cdc.docx')\n",
    "\n",
    "# Loop through each paragraph and replace text\n",
    "for para in doc.paragraphs:\n",
    "    if search_word in para.text:\n",
    "        para.text = para.text.replace(search_word, replace_word)\n",
    "\n",
    "# Save to the same file or a new one\n",
    "doc.save('Home Page–cdc_updated.docx')"
   ]
  }
 ],
 "metadata": {
  "kernelspec": {
   "display_name": "Python 3",
   "language": "python",
   "name": "python3"
  },
  "language_info": {
   "codemirror_mode": {
    "name": "ipython",
    "version": 3
   },
   "file_extension": ".py",
   "mimetype": "text/x-python",
   "name": "python",
   "nbconvert_exporter": "python",
   "pygments_lexer": "ipython3",
   "version": "3.12.0"
  }
 },
 "nbformat": 4,
 "nbformat_minor": 2
}
